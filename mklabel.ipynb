{
 "cells": [
  {
   "cell_type": "code",
   "execution_count": 1,
   "source": [
    "!pip install svglue"
   ],
   "outputs": [
    {
     "output_type": "stream",
     "name": "stdout",
     "text": [
      "Requirement already satisfied: svglue in ./venv/lib/python3.8/site-packages (0.3.0)\n",
      "Requirement already satisfied: lxml in ./venv/lib/python3.8/site-packages (from svglue) (4.6.3)\n"
     ]
    }
   ],
   "metadata": {}
  },
  {
   "cell_type": "code",
   "execution_count": 5,
   "source": [
    "import svglue\n",
    "\n",
    "# load the template\n",
    "tpl = svglue.load(file='label_template.svg')"
   ],
   "outputs": [],
   "metadata": {}
  },
  {
   "cell_type": "code",
   "execution_count": 6,
   "source": [
    "# Available are:\n",
    "# * box_tr, box_tl\n",
    "# * barcode_a, barcode_b, barcode_c, barcode_d\n",
    "tpl.set_svg('box_tr', file=\"Ghostscript_Tiger.svg\")"
   ],
   "outputs": [],
   "metadata": {}
  },
  {
   "cell_type": "code",
   "execution_count": 7,
   "source": [
    "with open('out.svg', 'wb') as f:\n",
    "  # this is a misuse of __str__() str should always return str not bytes\n",
    "  # this is just plain wrong. `svglue` needs a patch to remedy this.\n",
    "  f.write(tpl.__str__())"
   ],
   "outputs": [],
   "metadata": {}
  }
 ],
 "metadata": {
  "orig_nbformat": 4,
  "language_info": {
   "name": "python",
   "version": "3.8.5",
   "mimetype": "text/x-python",
   "codemirror_mode": {
    "name": "ipython",
    "version": 3
   },
   "pygments_lexer": "ipython3",
   "nbconvert_exporter": "python",
   "file_extension": ".py"
  },
  "kernelspec": {
   "name": "python3",
   "display_name": "Python 3.8.5 64-bit ('venv': venv)"
  },
  "interpreter": {
   "hash": "ff03e44ff9c53ecdec22bf05314706fc362eac640b2fafd2073e4d59e56df5f4"
  }
 },
 "nbformat": 4,
 "nbformat_minor": 2
}